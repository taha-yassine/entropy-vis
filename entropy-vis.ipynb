{
 "cells": [
  {
   "cell_type": "code",
   "execution_count": 3,
   "metadata": {},
   "outputs": [],
   "source": [
    "import torch\n",
    "from transformers import AutoTokenizer, AutoModelForCausalLM\n",
    "import matplotlib.pyplot as plt\n",
    "from IPython.display import display, HTML\n",
    "import matplotlib.colors as mcolors"
   ]
  },
  {
   "cell_type": "code",
   "execution_count": 4,
   "metadata": {},
   "outputs": [
    {
     "name": "stderr",
     "output_type": "stream",
     "text": [
      "/usr/local/lib/python3.11/site-packages/transformers/tokenization_utils_base.py:1617: FutureWarning: `clean_up_tokenization_spaces` was not set. It will be set to `True` by default. This behavior will be deprecated in transformers v4.45, and will be then set to `False` by default. For more details check this issue: https://github.com/huggingface/transformers/issues/31884\n",
      "  warnings.warn(\n"
     ]
    }
   ],
   "source": [
    "# Load the model and tokenizer\n",
    "model_name = \"openai-community/gpt2\"\n",
    "tokenizer = AutoTokenizer.from_pretrained(model_name)\n",
    "model = AutoModelForCausalLM.from_pretrained(model_name)"
   ]
  },
  {
   "cell_type": "code",
   "execution_count": 15,
   "metadata": {},
   "outputs": [
    {
     "name": "stderr",
     "output_type": "stream",
     "text": [
      "Setting `pad_token_id` to `eos_token_id`:None for open-end generation.\n"
     ]
    }
   ],
   "source": [
    "# Input prompt\n",
    "prompt = \"Kobe Bean Bryant was an American \"\n",
    "\n",
    "# Tokenize the input\n",
    "inputs = tokenizer(prompt, return_tensors=\"pt\")\n",
    "\n",
    "# Generate text and logits\n",
    "max_length = 50\n",
    "output = model.generate(**inputs, max_length=max_length, return_dict_in_generate=True, output_scores=True)\n",
    "\n",
    "# Get the generated tokens and scores\n",
    "generated_tokens = output.sequences[0]\n",
    "token_scores = torch.stack(output.scores, dim=1)\n",
    "\n",
    "# Convert scores to probabilities\n",
    "probs = torch.softmax(token_scores, dim=-1)"
   ]
  },
  {
   "cell_type": "code",
   "execution_count": 16,
   "metadata": {},
   "outputs": [],
   "source": [
    "# Calculate entropy for each token\n",
    "def calculate_entropy(probs):\n",
    "    return -torch.sum(probs * torch.log2(probs + 1e-10), dim=-1)\n",
    "\n",
    "entropies = calculate_entropy(probs[0])\n",
    "\n",
    "# Calculate entropy's upper and lower bounds\n",
    "vocab_size = model.config.vocab_size\n",
    "entropy_lower_bound = 0  # Minimum entropy when probability is 1 for one token\n",
    "entropy_upper_bound = torch.log2(torch.tensor(vocab_size))  # Maximum entropy for uniform distribution\n",
    "\n",
    "# Normalize entropies using the calculated bounds\n",
    "normalized_entropies = (entropies - entropy_lower_bound) / (entropy_upper_bound - entropy_lower_bound)"
   ]
  },
  {
   "cell_type": "code",
   "execution_count": 75,
   "metadata": {},
   "outputs": [
    {
     "data": {
      "text/html": [
       "<p><i>Kobe Bean Bryant was an American </i><span style=\"color: #fcab8f;\">iced</span><span style=\"color: #fdcbb6;\"> tea</span><span style=\"color: #fb7c5c;\"> drink</span><span style=\"color: #fc9777;\">er</span><span style=\"color: #fcb69b;\"> who</span><span style=\"color: #fb694a;\"> was[ had,  drank]</span><span style=\"color: #f7593f;\"> known[ a,  born]</span><span style=\"color: #fdd3c1;\"> for</span><span style=\"color: #fc8f6f;\"> his</span><span style=\"color: #d92523;\"> ability[ \",  love]</span><span style=\"color: #fff4ef;\"> to</span><span style=\"color: #f34c37;\"> make[ drink,  get]</span><span style=\"color: #f24734;\"> a[ his,  the]</span><span style=\"color: #f03d2d;\"> great[ lot,  good]</span><span style=\"color: #f44f39;\"> cup[ deal,  tea]</span><span style=\"color: #fee8de;\"> of</span><span style=\"color: #fca689;\"> tea</span><span style=\"color: #fcb296;\">.</span><span style=\"color: #fc8464;\"> He</span><span style=\"color: #fc8969;\"> was</span><span style=\"color: #fc8b6b;\"> also</span><span style=\"color: #fcbba1;\"> known</span><span style=\"color: #fee4d8;\"> for</span><span style=\"color: #fcb398;\"> his</span><span style=\"color: #ee3a2c;\"> ability[ love,  great]</span><span style=\"color: #fff3ed;\"> to</span><span style=\"color: #fb7b5b;\"> make</span><span style=\"color: #fc8161;\"> a</span><span style=\"color: #fca588;\"> great</span><span style=\"color: #fc9b7c;\"> cup</span><span style=\"color: #fff3ed;\"> of</span><span style=\"color: #fc9373;\"> tea</span><span style=\"color: #fcb99f;\">.</span><span style=\"color: #fc8e6e;\">\n",
       "</span><span style=\"color: #fff4ef;\">\n",
       "</span><span style=\"color: #f6563d;\">B[The, In]</span><span style=\"color: #fee1d3;\">ry</span><span style=\"color: #fff5f0;\">ant</span><span style=\"color: #fc8a6a;\"> was</span><span style=\"color: #fc8e6e;\"> a</span><span style=\"color: #f03d2d;\"> member[ great,  very]</span><span style=\"color: #fff4ef;\"> of</span></p>"
      ],
      "text/plain": [
       "<IPython.core.display.HTML object>"
      ]
     },
     "metadata": {},
     "output_type": "display_data"
    },
    {
     "data": {
      "image/png": "[encoded data removed]",
      "text/plain": [
       "<Figure size 600x100 with 1 Axes>"
      ]
     },
     "metadata": {},
     "output_type": "display_data"
    }
   ],
   "source": [
    "# Generate HTML with colored tokens and alternative predictions\n",
    "def generate_html(tokens, colors, probs, threshold):\n",
    "    turbo_cmap = plt.get_cmap('Reds')\n",
    "    html = \"\"\n",
    "    for token, color, prob in zip(tokens, colors, probs):\n",
    "        rgb = turbo_cmap(color)[:3]\n",
    "        hex_color = mcolors.rgb2hex(rgb)\n",
    "        \n",
    "        # If entropy > threshold, show the second and third best predictions\n",
    "        if color > threshold:\n",
    "            top_3 = torch.topk(prob, 3)\n",
    "            alt_tokens = [tokenizer.convert_tokens_to_string([x]) for x in tokenizer.convert_ids_to_tokens(top_3.indices[1:3])]\n",
    "            html += f'<span style=\"color: {hex_color};\">{token}[{alt_tokens[0]}, {alt_tokens[1]}]</span>'\n",
    "        else:\n",
    "            html += f'<span style=\"color: {hex_color};\">{token}</span>'\n",
    "    return html\n",
    "\n",
    "tokens = [tokenizer.decode(token) for token in generated_tokens[len(inputs.input_ids[0]):]]\n",
    "colors = normalized_entropies.numpy(force=True)\n",
    "entropy_threshold = 0.5\n",
    "\n",
    "colored_html = generate_html(tokens, colors, probs[0], entropy_threshold)\n",
    "\n",
    "display(HTML(f\"<p><i>{prompt}</i>{colored_html}</p>\"))\n",
    "\n",
    "# Create a figure for the colorbar\n",
    "fig, ax = plt.subplots(figsize=(6, 1))\n",
    "fig.subplots_adjust(bottom=0.5)\n",
    "cmap = plt.get_cmap('Reds')\n",
    "norm = plt.Normalize(vmin=entropy_lower_bound, vmax=entropy_upper_bound)\n",
    "cbar = fig.colorbar(plt.cm.ScalarMappable(norm=norm, cmap=cmap), cax=ax, orientation='horizontal')\n",
    "cbar.set_label('Entropy (bits)', fontsize=10)\n",
    "plt.show()\n"
   ]
  }
 ],
 "metadata": {
  "kernelspec": {
   "display_name": "Python 3",
   "language": "python",
   "name": "python3"
  },
  "language_info": {
   "codemirror_mode": {
    "name": "ipython",
    "version": 3
   },
   "file_extension": ".py",
   "mimetype": "text/x-python",
   "name": "python",
   "nbconvert_exporter": "python",
   "pygments_lexer": "ipython3",
   "version": "3.11.10"
  }
 },
 "nbformat": 4,
 "nbformat_minor": 2
}
